{
  "nbformat": 4,
  "nbformat_minor": 0,
  "metadata": {
    "colab": {
      "name": "resume_to_vacancy.ipynb",
      "provenance": [],
      "collapsed_sections": [],
      "toc_visible": true
    },
    "kernelspec": {
      "name": "python3",
      "display_name": "Python 3"
    }
  },
  "cells": [
    {
      "cell_type": "markdown",
      "metadata": {
        "id": "QC1_iQuUuCuQ"
      },
      "source": [
        "# Краткое описание"
      ]
    },
    {
      "cell_type": "markdown",
      "metadata": {
        "id": "l9VW5f36uDn8"
      },
      "source": [
        "Данный ноутбук предназначен для того, чтобы проверять соответствие резюме заданным вакансиям\n",
        "\n",
        "Система осуществляет подбор кандидату той вакансии, где он сможет наиболее полно раскрыть свой потенциал"
      ]
    },
    {
      "cell_type": "markdown",
      "metadata": {
        "id": "nHqmug6quWlm"
      },
      "source": [
        "# Resume-vacancy analysis"
      ]
    },
    {
      "cell_type": "code",
      "metadata": {
        "id": "jN9fzNR6the9"
      },
      "source": [
        "import time\n",
        "import pandas as pd\n",
        "import json\n",
        "import random as rd\n",
        "import numpy as np\n",
        "from sklearn.metrics import accuracy_score\n",
        "import re \n",
        "from sklearn.feature_extraction.text import CountVectorizer\n",
        "from sklearn.metrics.pairwise import cosine_similarity\n"
      ],
      "execution_count": 1,
      "outputs": []
    },
    {
      "cell_type": "code",
      "metadata": {
        "id": "V7bCW6uoVmac"
      },
      "source": [
        "#!pip install dostoevsky\n",
        "from dostoevsky.tokenization import RegexTokenizer\n",
        "from dostoevsky.models import FastTextSocialNetworkModel\n",
        "\n"
      ],
      "execution_count": 2,
      "outputs": []
    },
    {
      "cell_type": "code",
      "metadata": {
        "id": "XBVdWy2rWlkZ"
      },
      "source": [
        "!python -m dostoevsky download fasttext-social-network-model"
      ],
      "execution_count": 3,
      "outputs": []
    },
    {
      "cell_type": "markdown",
      "metadata": {
        "id": "C--34uNuujgO"
      },
      "source": [
        "## Analysis"
      ]
    },
    {
      "cell_type": "code",
      "metadata": {
        "id": "10YFF8ZCuimI"
      },
      "source": [
        "with open('drive/MyDrive/LD final/data_file_it.json') as f:\n",
        "    data = json.load(f)"
      ],
      "execution_count": 4,
      "outputs": []
    },
    {
      "cell_type": "code",
      "metadata": {
        "id": "ZrsY4KOY77gZ"
      },
      "source": [
        "vacs = pd.read_csv('drive/MyDrive/LD final/vacancy_all_it.csv', index_col=0)\n",
        "vacs = vacs['description']"
      ],
      "execution_count": 5,
      "outputs": []
    },
    {
      "cell_type": "markdown",
      "metadata": {
        "id": "7lmgnjTNZ5sJ"
      },
      "source": [
        "## Sentiment analysis for each resume and vacancy"
      ]
    },
    {
      "cell_type": "markdown",
      "metadata": {
        "id": "yC02uYjazZUO"
      },
      "source": [
        "Delete all symbols"
      ]
    },
    {
      "cell_type": "code",
      "metadata": {
        "id": "oweNIbiZfRI-"
      },
      "source": [
        "res_list = []\n",
        "for i in range(len(data)):\n",
        "  resume = re.sub(r\"[,\\'{}\\\\\\[\\]]\", \"\", str(data[i])).replace('xa0',' ')\n",
        "  res_list.append(resume)"
      ],
      "execution_count": 6,
      "outputs": []
    },
    {
      "cell_type": "markdown",
      "metadata": {
        "id": "Ce68b-WBze44"
      },
      "source": [
        "Emotion scoring"
      ]
    },
    {
      "cell_type": "code",
      "metadata": {
        "colab": {
          "base_uri": "https://localhost:8080/"
        },
        "id": "WiMwdoVRZvDu",
        "outputId": "77c73bdb-8e70-4e6c-e8d6-348eb6bb5375"
      },
      "source": [
        "tokenizer = RegexTokenizer()\n",
        "tokens = tokenizer.split('всё очень плохо')  # [('всё', None), ('очень', None), ('плохо', None)]\n",
        "\n",
        "model = FastTextSocialNetworkModel(tokenizer=tokenizer)\n",
        "\n",
        "results = model.predict(res_list, k=2)\n",
        "res_values = []\n",
        "for res, sentiment in zip(res_list, results):\n",
        "    res_values.append([res_list.index(res),sentiment])"
      ],
      "execution_count": 7,
      "outputs": [
        {
          "output_type": "stream",
          "text": [
            "\n"
          ],
          "name": "stderr"
        }
      ]
    },
    {
      "cell_type": "code",
      "metadata": {
        "id": "i8qQVv3Kxguc"
      },
      "source": [
        "for i in range(len(res_values)):  \n",
        "  res_values[i][1] = 1 - res_values[i][1]['neutral']"
      ],
      "execution_count": 8,
      "outputs": []
    },
    {
      "cell_type": "code",
      "metadata": {
        "colab": {
          "base_uri": "https://localhost:8080/"
        },
        "id": "r-kXzF1AzTLS",
        "outputId": "c9fc4748-a60b-4855-81d3-60804bfdf4a3"
      },
      "source": [
        "res_values[0] #emotion score for data[0] resume"
      ],
      "execution_count": 9,
      "outputs": [
        {
          "output_type": "execute_result",
          "data": {
            "text/plain": [
              "[0, 0.22269010543823242]"
            ]
          },
          "metadata": {
            "tags": []
          },
          "execution_count": 9
        }
      ]
    },
    {
      "cell_type": "markdown",
      "metadata": {
        "id": "UgO4mBl6aBgx"
      },
      "source": [
        "### Matching resumes"
      ]
    },
    {
      "cell_type": "markdown",
      "metadata": {
        "id": "GWl104yS9uCP"
      },
      "source": [
        "Some functions"
      ]
    },
    {
      "cell_type": "code",
      "metadata": {
        "id": "sQlfvVjQ9oE_"
      },
      "source": [
        "def index(textcv, textjd):\n",
        "  '''\n",
        "  Resume to vacancy score\n",
        "  '''\n",
        "\n",
        "  documents = [textjd, textcv]\n",
        "  count_vectorizer = CountVectorizer()\n",
        "  sparse_matrix = count_vectorizer.fit_transform(documents)\n",
        "  doc_term_matrix = sparse_matrix.todense()\n",
        "  df = pd.DataFrame(doc_term_matrix, \n",
        "              columns=count_vectorizer.get_feature_names(), \n",
        "              index=['textjd', 'textcv'])\n",
        "  answer = cosine_similarity(df, df)\n",
        "  answer = pd.DataFrame(answer)\n",
        "  answer = answer.iloc[[1],[0]].values[0]\n",
        "  answer = round(float(answer),4)*100\n",
        "\n",
        "  return answer"
      ],
      "execution_count": 10,
      "outputs": []
    },
    {
      "cell_type": "code",
      "metadata": {
        "id": "lXI1V0dd9yux"
      },
      "source": [
        "def best_resume_vacancy_score():\n",
        "  '''\n",
        "  Searching vest resume for each vacancy\n",
        "  '''\n",
        "\n",
        "  best_match = []\n",
        "  for i in range(len(vacs[:15])):\n",
        "    vac = vacs[i]\n",
        "    max_index = 0\n",
        "    for k in range(len(res_list)):\n",
        "      resume = res_list[k]\n",
        "      index_temp = index(resume, vac)\n",
        "      if index_temp > max_index:\n",
        "        max_index = index_temp\n",
        "        best_resume_number = k\n",
        "    best_match.append([i, best_resume_number, max_index*(1+res_values[k][1])])\n",
        "\n",
        "  return best_match"
      ],
      "execution_count": 11,
      "outputs": []
    },
    {
      "cell_type": "code",
      "metadata": {
        "id": "emNMkg5XXp2i"
      },
      "source": [
        "def all_resumes_to_vacancies():\n",
        "  '''\n",
        "  Function that creates dataframe with resume scores to all vacancies\n",
        "  '''\n",
        "  scores = []\n",
        "  for i in range(len(data[:10])):\n",
        "    resume = re.sub(r\"[,\\'{}\\\\\\[\\]]\", \"\", str(data[i])).replace('xa0',' ')\n",
        "    indexes_temp = []\n",
        "    for k in range(len(vacs[:20])):\n",
        "      vac = vacs[k]\n",
        "      index_temp = index(resume, vac)\n",
        "      indexes_temp.append(index_temp)\n",
        "    scores.append(indexes_temp)\n",
        "  \n",
        "  return pd.DataFrame(scores)"
      ],
      "execution_count": 31,
      "outputs": []
    },
    {
      "cell_type": "code",
      "metadata": {
        "id": "op4N-hSbuzrE",
        "colab": {
          "base_uri": "https://localhost:8080/"
        },
        "outputId": "b63c2886-d030-4156-b66a-8bdf6d346a6c"
      },
      "source": [
        "best_resume_vacancy_score()"
      ],
      "execution_count": 13,
      "outputs": [
        {
          "output_type": "execute_result",
          "data": {
            "text/plain": [
              "[[0, 46, 51.673154156208035],\n",
              " [1, 282, 15.349257299900056],\n",
              " [2, 46, 53.670738875865936],\n",
              " [3, 327, 25.153494946956634],\n",
              " [4, 11, 31.50214063644409],\n",
              " [5, 11, 32.58129559993744],\n",
              " [6, 361, 26.852589995861056],\n",
              " [7, 11, 25.497906105518343],\n",
              " [8, 327, 21.296089971065523],\n",
              " [9, 28, 39.25139170408249],\n",
              " [10, 245, 30.5951912522316],\n",
              " [11, 11, 36.209093136787416],\n",
              " [12, 11, 32.58129559993744],\n",
              " [13, 28, 44.3601572227478],\n",
              " [14, 316, 30.365583813190465]]"
            ]
          },
          "metadata": {
            "tags": []
          },
          "execution_count": 13
        }
      ]
    },
    {
      "cell_type": "code",
      "metadata": {
        "id": "gEFVOFyLFq6W",
        "colab": {
          "base_uri": "https://localhost:8080/",
          "height": 343
        },
        "outputId": "cd520607-0dab-4c7d-d2d0-0b52d4410cba"
      },
      "source": [
        "all_resumes_to_vacancies()"
      ],
      "execution_count": 32,
      "outputs": [
        {
          "output_type": "execute_result",
          "data": {
            "text/html": [
              "<div>\n",
              "<style scoped>\n",
              "    .dataframe tbody tr th:only-of-type {\n",
              "        vertical-align: middle;\n",
              "    }\n",
              "\n",
              "    .dataframe tbody tr th {\n",
              "        vertical-align: top;\n",
              "    }\n",
              "\n",
              "    .dataframe thead th {\n",
              "        text-align: right;\n",
              "    }\n",
              "</style>\n",
              "<table border=\"1\" class=\"dataframe\">\n",
              "  <thead>\n",
              "    <tr style=\"text-align: right;\">\n",
              "      <th></th>\n",
              "      <th>0</th>\n",
              "      <th>1</th>\n",
              "      <th>2</th>\n",
              "      <th>3</th>\n",
              "      <th>4</th>\n",
              "      <th>5</th>\n",
              "      <th>6</th>\n",
              "      <th>7</th>\n",
              "      <th>8</th>\n",
              "      <th>9</th>\n",
              "      <th>10</th>\n",
              "      <th>11</th>\n",
              "      <th>12</th>\n",
              "      <th>13</th>\n",
              "      <th>14</th>\n",
              "      <th>15</th>\n",
              "      <th>16</th>\n",
              "      <th>17</th>\n",
              "      <th>18</th>\n",
              "      <th>19</th>\n",
              "    </tr>\n",
              "  </thead>\n",
              "  <tbody>\n",
              "    <tr>\n",
              "      <th>0</th>\n",
              "      <td>7.00</td>\n",
              "      <td>5.11</td>\n",
              "      <td>7.45</td>\n",
              "      <td>7.30</td>\n",
              "      <td>9.34</td>\n",
              "      <td>8.87</td>\n",
              "      <td>10.08</td>\n",
              "      <td>6.93</td>\n",
              "      <td>5.12</td>\n",
              "      <td>5.99</td>\n",
              "      <td>9.04</td>\n",
              "      <td>9.94</td>\n",
              "      <td>8.87</td>\n",
              "      <td>10.00</td>\n",
              "      <td>9.96</td>\n",
              "      <td>4.55</td>\n",
              "      <td>4.51</td>\n",
              "      <td>9.00</td>\n",
              "      <td>10.19</td>\n",
              "      <td>6.66</td>\n",
              "    </tr>\n",
              "    <tr>\n",
              "      <th>1</th>\n",
              "      <td>11.78</td>\n",
              "      <td>4.90</td>\n",
              "      <td>12.11</td>\n",
              "      <td>10.37</td>\n",
              "      <td>15.58</td>\n",
              "      <td>14.57</td>\n",
              "      <td>11.96</td>\n",
              "      <td>10.44</td>\n",
              "      <td>8.86</td>\n",
              "      <td>11.10</td>\n",
              "      <td>14.66</td>\n",
              "      <td>16.09</td>\n",
              "      <td>14.57</td>\n",
              "      <td>10.66</td>\n",
              "      <td>13.17</td>\n",
              "      <td>11.66</td>\n",
              "      <td>11.57</td>\n",
              "      <td>14.98</td>\n",
              "      <td>20.28</td>\n",
              "      <td>16.33</td>\n",
              "    </tr>\n",
              "    <tr>\n",
              "      <th>2</th>\n",
              "      <td>12.77</td>\n",
              "      <td>6.89</td>\n",
              "      <td>12.33</td>\n",
              "      <td>11.10</td>\n",
              "      <td>11.21</td>\n",
              "      <td>9.48</td>\n",
              "      <td>15.45</td>\n",
              "      <td>8.32</td>\n",
              "      <td>11.90</td>\n",
              "      <td>11.54</td>\n",
              "      <td>7.82</td>\n",
              "      <td>11.04</td>\n",
              "      <td>9.48</td>\n",
              "      <td>11.24</td>\n",
              "      <td>10.80</td>\n",
              "      <td>12.22</td>\n",
              "      <td>12.49</td>\n",
              "      <td>13.54</td>\n",
              "      <td>13.23</td>\n",
              "      <td>13.40</td>\n",
              "    </tr>\n",
              "    <tr>\n",
              "      <th>3</th>\n",
              "      <td>7.91</td>\n",
              "      <td>2.19</td>\n",
              "      <td>6.31</td>\n",
              "      <td>10.15</td>\n",
              "      <td>14.38</td>\n",
              "      <td>13.48</td>\n",
              "      <td>8.03</td>\n",
              "      <td>7.76</td>\n",
              "      <td>4.12</td>\n",
              "      <td>11.03</td>\n",
              "      <td>11.81</td>\n",
              "      <td>16.41</td>\n",
              "      <td>13.48</td>\n",
              "      <td>13.42</td>\n",
              "      <td>12.16</td>\n",
              "      <td>9.45</td>\n",
              "      <td>9.38</td>\n",
              "      <td>11.77</td>\n",
              "      <td>15.56</td>\n",
              "      <td>10.96</td>\n",
              "    </tr>\n",
              "    <tr>\n",
              "      <th>4</th>\n",
              "      <td>12.74</td>\n",
              "      <td>6.09</td>\n",
              "      <td>12.86</td>\n",
              "      <td>14.34</td>\n",
              "      <td>14.53</td>\n",
              "      <td>14.54</td>\n",
              "      <td>15.52</td>\n",
              "      <td>14.02</td>\n",
              "      <td>13.35</td>\n",
              "      <td>15.83</td>\n",
              "      <td>13.36</td>\n",
              "      <td>14.59</td>\n",
              "      <td>14.54</td>\n",
              "      <td>16.22</td>\n",
              "      <td>12.70</td>\n",
              "      <td>13.56</td>\n",
              "      <td>14.13</td>\n",
              "      <td>19.95</td>\n",
              "      <td>17.56</td>\n",
              "      <td>24.11</td>\n",
              "    </tr>\n",
              "    <tr>\n",
              "      <th>5</th>\n",
              "      <td>2.40</td>\n",
              "      <td>1.90</td>\n",
              "      <td>2.55</td>\n",
              "      <td>2.51</td>\n",
              "      <td>3.40</td>\n",
              "      <td>4.12</td>\n",
              "      <td>3.33</td>\n",
              "      <td>3.36</td>\n",
              "      <td>1.78</td>\n",
              "      <td>3.98</td>\n",
              "      <td>4.39</td>\n",
              "      <td>4.27</td>\n",
              "      <td>4.12</td>\n",
              "      <td>3.20</td>\n",
              "      <td>5.43</td>\n",
              "      <td>2.91</td>\n",
              "      <td>2.89</td>\n",
              "      <td>6.28</td>\n",
              "      <td>2.95</td>\n",
              "      <td>6.82</td>\n",
              "    </tr>\n",
              "    <tr>\n",
              "      <th>6</th>\n",
              "      <td>10.79</td>\n",
              "      <td>12.16</td>\n",
              "      <td>11.12</td>\n",
              "      <td>10.14</td>\n",
              "      <td>11.90</td>\n",
              "      <td>11.50</td>\n",
              "      <td>10.72</td>\n",
              "      <td>11.03</td>\n",
              "      <td>9.95</td>\n",
              "      <td>11.23</td>\n",
              "      <td>8.63</td>\n",
              "      <td>12.60</td>\n",
              "      <td>11.50</td>\n",
              "      <td>14.02</td>\n",
              "      <td>10.37</td>\n",
              "      <td>13.26</td>\n",
              "      <td>13.16</td>\n",
              "      <td>17.76</td>\n",
              "      <td>14.72</td>\n",
              "      <td>20.13</td>\n",
              "    </tr>\n",
              "    <tr>\n",
              "      <th>7</th>\n",
              "      <td>11.03</td>\n",
              "      <td>4.01</td>\n",
              "      <td>11.73</td>\n",
              "      <td>9.68</td>\n",
              "      <td>13.15</td>\n",
              "      <td>14.68</td>\n",
              "      <td>10.22</td>\n",
              "      <td>12.42</td>\n",
              "      <td>9.57</td>\n",
              "      <td>10.64</td>\n",
              "      <td>13.50</td>\n",
              "      <td>15.00</td>\n",
              "      <td>14.68</td>\n",
              "      <td>11.05</td>\n",
              "      <td>12.47</td>\n",
              "      <td>10.46</td>\n",
              "      <td>10.66</td>\n",
              "      <td>17.94</td>\n",
              "      <td>15.45</td>\n",
              "      <td>18.09</td>\n",
              "    </tr>\n",
              "    <tr>\n",
              "      <th>8</th>\n",
              "      <td>20.26</td>\n",
              "      <td>6.02</td>\n",
              "      <td>16.68</td>\n",
              "      <td>17.16</td>\n",
              "      <td>11.17</td>\n",
              "      <td>15.48</td>\n",
              "      <td>14.06</td>\n",
              "      <td>12.03</td>\n",
              "      <td>5.86</td>\n",
              "      <td>11.02</td>\n",
              "      <td>15.44</td>\n",
              "      <td>13.26</td>\n",
              "      <td>15.48</td>\n",
              "      <td>12.69</td>\n",
              "      <td>11.69</td>\n",
              "      <td>9.11</td>\n",
              "      <td>9.42</td>\n",
              "      <td>11.78</td>\n",
              "      <td>14.83</td>\n",
              "      <td>9.31</td>\n",
              "    </tr>\n",
              "    <tr>\n",
              "      <th>9</th>\n",
              "      <td>6.05</td>\n",
              "      <td>6.82</td>\n",
              "      <td>6.04</td>\n",
              "      <td>9.43</td>\n",
              "      <td>7.92</td>\n",
              "      <td>9.48</td>\n",
              "      <td>8.35</td>\n",
              "      <td>8.04</td>\n",
              "      <td>5.25</td>\n",
              "      <td>7.62</td>\n",
              "      <td>9.28</td>\n",
              "      <td>8.63</td>\n",
              "      <td>9.48</td>\n",
              "      <td>7.38</td>\n",
              "      <td>8.81</td>\n",
              "      <td>8.17</td>\n",
              "      <td>7.53</td>\n",
              "      <td>10.39</td>\n",
              "      <td>9.53</td>\n",
              "      <td>10.49</td>\n",
              "    </tr>\n",
              "  </tbody>\n",
              "</table>\n",
              "</div>"
            ],
            "text/plain": [
              "      0      1      2      3      4   ...     15     16     17     18     19\n",
              "0   7.00   5.11   7.45   7.30   9.34  ...   4.55   4.51   9.00  10.19   6.66\n",
              "1  11.78   4.90  12.11  10.37  15.58  ...  11.66  11.57  14.98  20.28  16.33\n",
              "2  12.77   6.89  12.33  11.10  11.21  ...  12.22  12.49  13.54  13.23  13.40\n",
              "3   7.91   2.19   6.31  10.15  14.38  ...   9.45   9.38  11.77  15.56  10.96\n",
              "4  12.74   6.09  12.86  14.34  14.53  ...  13.56  14.13  19.95  17.56  24.11\n",
              "5   2.40   1.90   2.55   2.51   3.40  ...   2.91   2.89   6.28   2.95   6.82\n",
              "6  10.79  12.16  11.12  10.14  11.90  ...  13.26  13.16  17.76  14.72  20.13\n",
              "7  11.03   4.01  11.73   9.68  13.15  ...  10.46  10.66  17.94  15.45  18.09\n",
              "8  20.26   6.02  16.68  17.16  11.17  ...   9.11   9.42  11.78  14.83   9.31\n",
              "9   6.05   6.82   6.04   9.43   7.92  ...   8.17   7.53  10.39   9.53  10.49\n",
              "\n",
              "[10 rows x 20 columns]"
            ]
          },
          "metadata": {
            "tags": []
          },
          "execution_count": 32
        }
      ]
    },
    {
      "cell_type": "code",
      "metadata": {
        "id": "sJK-dpbTfpZw"
      },
      "source": [
        ""
      ],
      "execution_count": null,
      "outputs": []
    }
  ]
}
